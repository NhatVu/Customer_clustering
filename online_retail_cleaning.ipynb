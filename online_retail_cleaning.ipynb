{
 "cells": [
  {
   "cell_type": "code",
   "execution_count": 10,
   "metadata": {},
   "outputs": [
    {
     "data": {
      "text/html": [
       "<style>.container { width:100% !important; }</style>"
      ],
      "text/plain": [
       "<IPython.core.display.HTML object>"
      ]
     },
     "metadata": {},
     "output_type": "display_data"
    },
    {
     "data": {
      "text/html": [
       "<style>pre { white-space: pre !important; }</style>"
      ],
      "text/plain": [
       "<IPython.core.display.HTML object>"
      ]
     },
     "metadata": {},
     "output_type": "display_data"
    }
   ],
   "source": [
    "from IPython.core.display import display, HTML\n",
    "display(HTML(\"<style>.container { width:100% !important; }</style>\"))\n",
    "display(HTML(\"<style>pre { white-space: pre !important; }</style>\"))\n",
    "import warnings\n",
    "warnings.filterwarnings('ignore')\n",
    "\n",
    "import pandas as pd\n",
    "import numpy as np\n",
    "import os\n",
    "import matplotlib.pyplot as plt\n",
    "import datetime as dt\n",
    "from tabulate import tabulate\n",
    "from sklearn.cluster import KMeans\n",
    "import seaborn as sns"
   ]
  },
  {
   "cell_type": "code",
   "execution_count": 25,
   "metadata": {},
   "outputs": [
    {
     "name": "stdout",
     "output_type": "stream",
     "text": [
      "╒═════════════╤═════════╤══════════╤════════════════════════════════════╤════════╕\n",
      "│             │   count │   unique │                top                 │   freq │\n",
      "╞═════════════╪═════════╪══════════╪════════════════════════════════════╪════════╡\n",
      "│   Invoice   │  541910 │    25900 │               573585               │   1114 │\n",
      "├─────────────┼─────────┼──────────┼────────────────────────────────────┼────────┤\n",
      "│  StockCode  │  541910 │     4070 │               85123A               │   2313 │\n",
      "├─────────────┼─────────┼──────────┼────────────────────────────────────┼────────┤\n",
      "│ Description │  540456 │     4223 │ WHITE HANGING HEART T-LIGHT HOLDER │   2369 │\n",
      "├─────────────┼─────────┼──────────┼────────────────────────────────────┼────────┤\n",
      "│   Country   │  541910 │       38 │           United Kingdom           │ 495478 │\n",
      "╘═════════════╧═════════╧══════════╧════════════════════════════════════╧════════╛\n",
      "╒═════════════╤═════════╤═════════════════════╤═════════════════════╤═════════════════════╤═════════════════════╤═════════════════════╤═══════════╕\n",
      "│             │   count │         min         │         25%         │         50%         │         75%         │         max         │       std │\n",
      "╞═════════════╪═════════╪═════════════════════╪═════════════════════╪═════════════════════╪═════════════════════╪═════════════════════╪═══════════╡\n",
      "│  Quantity   │  541910 │      -80995.0       │         1.0         │         3.0         │        10.0         │       80995.0       │  218.081  │\n",
      "├─────────────┼─────────┼─────────────────────┼─────────────────────┼─────────────────────┼─────────────────────┼─────────────────────┼───────────┤\n",
      "│ InvoiceDate │  541910 │ 2010-12-01 08:26:00 │ 2011-03-28 11:34:00 │ 2011-07-19 17:17:00 │ 2011-10-19 11:27:00 │ 2011-12-09 12:50:00 │  nan      │\n",
      "├─────────────┼─────────┼─────────────────────┼─────────────────────┼─────────────────────┼─────────────────────┼─────────────────────┼───────────┤\n",
      "│    Price    │  541910 │      -11062.06      │        1.25         │        2.08         │        4.13         │       38970.0       │   96.7598 │\n",
      "├─────────────┼─────────┼─────────────────────┼─────────────────────┼─────────────────────┼─────────────────────┼─────────────────────┼───────────┤\n",
      "│ Customer ID │  406830 │       12346.0       │       13953.0       │       15152.0       │       16791.0       │       18287.0       │ 1713.6    │\n",
      "╘═════════════╧═════════╧═════════════════════╧═════════════════════╧═════════════════════╧═════════════════════╧═════════════════════╧═══════════╛\n"
     ]
    }
   ],
   "source": [
    "# Retrieve the dataset\n",
    "origin_data_2010_2011_df = pd.read_excel(\"./online_retail_II.xlsx\", sheet_name='Year 2010-2011')\n",
    "\n",
    "# View the data\n",
    "unified_data = origin_data_2010_2011_df.copy()\n",
    "unified_data.head(5)\n",
    "\n",
    "summerized_data2 = unified_data.describe(include=\"object\").T\n",
    "print(tabulate(summerized_data2,headers=summerized_data2.columns,tablefmt='fancy_grid', stralign='center'))\n",
    "\n",
    "summerized_data = unified_data.describe(datetime_is_numeric=True).T.drop(columns=[\"mean\"])\n",
    "print(tabulate(summerized_data,headers=summerized_data.columns,tablefmt='fancy_grid', stralign='center'))"
   ]
  },
  {
   "cell_type": "code",
   "execution_count": 26,
   "metadata": {},
   "outputs": [
    {
     "name": "stdout",
     "output_type": "stream",
     "text": [
      "General information\n",
      "<class 'pandas.core.frame.DataFrame'>\n",
      "RangeIndex: 541910 entries, 0 to 541909\n",
      "Data columns (total 8 columns):\n",
      " #   Column       Non-Null Count   Dtype         \n",
      "---  ------       --------------   -----         \n",
      " 0   Invoice      541910 non-null  object        \n",
      " 1   StockCode    541910 non-null  object        \n",
      " 2   Description  540456 non-null  object        \n",
      " 3   Quantity     541910 non-null  int64         \n",
      " 4   InvoiceDate  541910 non-null  datetime64[ns]\n",
      " 5   Price        541910 non-null  float64       \n",
      " 6   Customer ID  406830 non-null  float64       \n",
      " 7   Country      541910 non-null  object        \n",
      "dtypes: datetime64[ns](1), float64(2), int64(1), object(4)\n",
      "memory usage: 33.1+ MB\n",
      "\n",
      "Total missing values\n",
      "Invoice             0\n",
      "StockCode           0\n",
      "Description      1454\n",
      "Quantity            0\n",
      "InvoiceDate         0\n",
      "Price               0\n",
      "Customer ID    135080\n",
      "Country             0\n",
      "dtype: int64 \n",
      "\n",
      "Total unique items\n",
      "4070 \n",
      "\n",
      "Total number of invoices\n",
      "25900 \n",
      "\n"
     ]
    }
   ],
   "source": [
    "# View basic information\n",
    "print(\"General information\")\n",
    "unified_data.info()\n",
    "print()\n",
    "print(\"Total missing values\")\n",
    "print(unified_data.isnull().sum(),\"\\n\")\n",
    "print(\"Total unique items\")\n",
    "print(unified_data[\"StockCode\"].nunique(),\"\\n\")\n",
    "print(\"Total number of invoices\")\n",
    "print(unified_data[\"Invoice\"].nunique(),\"\\n\")"
   ]
  },
  {
   "cell_type": "code",
   "execution_count": 27,
   "metadata": {},
   "outputs": [],
   "source": [
    "# customer id missing alot. We can't do customer segmentation if don't have customerId -> have to drop null row \n",
    "# Basic preprocessing\n",
    "# Drop null values\n",
    "unified_data.dropna(inplace=True)\n",
    "# Remove canceled invoice\n",
    "unified_data = unified_data[~unified_data[\"Invoice\"].str.contains(\"C\",na=False)]\n",
    "# temp = unified_data[unified_data[\"Invoice\"].str.contains(\"C\",na=False)]"
   ]
  },
  {
   "cell_type": "code",
   "execution_count": 28,
   "metadata": {},
   "outputs": [
    {
     "name": "stdout",
     "output_type": "stream",
     "text": [
      "╒═════════════╤═════════╤═════════════════════╤═════════════════════╤═════════════════════╤═════════════════════╤═════════════════════╤═══════════╕\n",
      "│             │   count │         min         │         25%         │         50%         │         75%         │         max         │       std │\n",
      "╞═════════════╪═════════╪═════════════════════╪═════════════════════╪═════════════════════╪═════════════════════╪═════════════════════╪═══════════╡\n",
      "│  Quantity   │  397925 │         1.0         │         2.0         │         6.0         │        12.0         │       80995.0       │  180.42   │\n",
      "├─────────────┼─────────┼─────────────────────┼─────────────────────┼─────────────────────┼─────────────────────┼─────────────────────┼───────────┤\n",
      "│ InvoiceDate │  397925 │ 2010-12-01 08:26:00 │ 2011-04-07 11:12:00 │ 2011-07-31 14:39:00 │ 2011-10-20 14:33:00 │ 2011-12-09 12:50:00 │  nan      │\n",
      "├─────────────┼─────────┼─────────────────────┼─────────────────────┼─────────────────────┼─────────────────────┼─────────────────────┼───────────┤\n",
      "│    Price    │  397925 │         0.0         │        1.25         │        1.95         │        3.75         │       8142.75       │   22.0968 │\n",
      "├─────────────┼─────────┼─────────────────────┼─────────────────────┼─────────────────────┼─────────────────────┼─────────────────────┼───────────┤\n",
      "│ Customer ID │  397925 │       12346.0       │       13969.0       │       15159.0       │       16795.0       │       18287.0       │ 1713.17   │\n",
      "╘═════════════╧═════════╧═════════════════════╧═════════════════════╧═════════════════════╧═════════════════════╧═════════════════════╧═══════════╛\n",
      "╒═════════════╤═════════╤══════════╤════════════════════════════════════╤════════╕\n",
      "│             │   count │   unique │                top                 │   freq │\n",
      "╞═════════════╪═════════╪══════════╪════════════════════════════════════╪════════╡\n",
      "│   Invoice   │  397925 │    18536 │               576339               │    542 │\n",
      "├─────────────┼─────────┼──────────┼────────────────────────────────────┼────────┤\n",
      "│  StockCode  │  397925 │     3665 │               85123A               │   2035 │\n",
      "├─────────────┼─────────┼──────────┼────────────────────────────────────┼────────┤\n",
      "│ Description │  397925 │     3877 │ WHITE HANGING HEART T-LIGHT HOLDER │   2028 │\n",
      "├─────────────┼─────────┼──────────┼────────────────────────────────────┼────────┤\n",
      "│   Country   │  397925 │       37 │           United Kingdom           │ 354345 │\n",
      "╘═════════════╧═════════╧══════════╧════════════════════════════════════╧════════╛\n"
     ]
    }
   ],
   "source": [
    "# View the data after brief cleaning\n",
    "summerized_data = unified_data.describe(datetime_is_numeric=True).T.drop(columns=[\"mean\"])\n",
    "print(tabulate(summerized_data,headers=summerized_data.columns,tablefmt='fancy_grid', stralign='center'))\n",
    "summerized_data2 = unified_data.describe(include=\"object\").T\n",
    "print(tabulate(summerized_data2,headers=summerized_data2.columns,tablefmt='fancy_grid', stralign='center'))"
   ]
  },
  {
   "cell_type": "code",
   "execution_count": 29,
   "metadata": {},
   "outputs": [
    {
     "data": {
      "text/html": [
       "<div>\n",
       "<style scoped>\n",
       "    .dataframe tbody tr th:only-of-type {\n",
       "        vertical-align: middle;\n",
       "    }\n",
       "\n",
       "    .dataframe tbody tr th {\n",
       "        vertical-align: top;\n",
       "    }\n",
       "\n",
       "    .dataframe thead th {\n",
       "        text-align: right;\n",
       "    }\n",
       "</style>\n",
       "<table border=\"1\" class=\"dataframe\">\n",
       "  <thead>\n",
       "    <tr style=\"text-align: right;\">\n",
       "      <th></th>\n",
       "      <th>0.00</th>\n",
       "      <th>0.25</th>\n",
       "      <th>0.50</th>\n",
       "      <th>0.75</th>\n",
       "      <th>0.90</th>\n",
       "      <th>0.99</th>\n",
       "      <th>1.00</th>\n",
       "    </tr>\n",
       "  </thead>\n",
       "  <tbody>\n",
       "    <tr>\n",
       "      <th>Quantity</th>\n",
       "      <td>1.0</td>\n",
       "      <td>2.00</td>\n",
       "      <td>6.00</td>\n",
       "      <td>12.00</td>\n",
       "      <td>24.00</td>\n",
       "      <td>120.00</td>\n",
       "      <td>80995.00</td>\n",
       "    </tr>\n",
       "    <tr>\n",
       "      <th>Price</th>\n",
       "      <td>0.0</td>\n",
       "      <td>1.25</td>\n",
       "      <td>1.95</td>\n",
       "      <td>3.75</td>\n",
       "      <td>6.35</td>\n",
       "      <td>14.95</td>\n",
       "      <td>8142.75</td>\n",
       "    </tr>\n",
       "    <tr>\n",
       "      <th>Customer ID</th>\n",
       "      <td>12346.0</td>\n",
       "      <td>13969.00</td>\n",
       "      <td>15159.00</td>\n",
       "      <td>16795.00</td>\n",
       "      <td>17725.00</td>\n",
       "      <td>18211.00</td>\n",
       "      <td>18287.00</td>\n",
       "    </tr>\n",
       "  </tbody>\n",
       "</table>\n",
       "</div>"
      ],
      "text/plain": [
       "                0.00      0.25      0.50      0.75      0.90      0.99  \\\n",
       "Quantity         1.0      2.00      6.00     12.00     24.00    120.00   \n",
       "Price            0.0      1.25      1.95      3.75      6.35     14.95   \n",
       "Customer ID  12346.0  13969.00  15159.00  16795.00  17725.00  18211.00   \n",
       "\n",
       "                 1.00  \n",
       "Quantity     80995.00  \n",
       "Price         8142.75  \n",
       "Customer ID  18287.00  "
      ]
     },
     "execution_count": 29,
     "metadata": {},
     "output_type": "execute_result"
    }
   ],
   "source": [
    "unified_data.quantile([0, .25, 0.5, 0.75, 0.9, 0.99, 1], axis=0).T"
   ]
  },
  {
   "cell_type": "code",
   "execution_count": 30,
   "metadata": {},
   "outputs": [
    {
     "name": "stdout",
     "output_type": "stream",
     "text": [
      "rare quantity %: 1.172331469498021\n",
      "rare_price %: 0.8795627316705409\n",
      "shape: (387728, 8)\n"
     ]
    }
   ],
   "source": [
    "# need to remove records where price = 0 because it nonsense \n",
    "# looking at the summary stat table, quantity and price are high right skew. \n",
    "# based on the suggestion of Chen (2012), Data mining for the online retail industry, we will remove top 1% of the rightmost \n",
    "rare_quantity = unified_data[unified_data['Quantity'] > 100].shape[0] / unified_data.shape[0]\n",
    "rare_price = unified_data[unified_data[\"Price\"] > 15].shape[0] / unified_data.shape[0]\n",
    "\n",
    "print(f'rare quantity %: {rare_quantity * 100}')\n",
    "print(f'rare_price %: {rare_price * 100}')\n",
    "\n",
    "unified_data = unified_data[unified_data['Quantity'] < 100]\n",
    "unified_data = unified_data[unified_data[\"Price\"] < 15]\n",
    "print(f'shape: {unified_data.shape}')"
   ]
  },
  {
   "cell_type": "code",
   "execution_count": 31,
   "metadata": {},
   "outputs": [
    {
     "data": {
      "text/plain": [
       "[Text(0.5, 1.0, 'Data distribution of Price')]"
      ]
     },
     "execution_count": 31,
     "metadata": {},
     "output_type": "execute_result"
    },
    {
     "data": {
      "image/png": "[encoded data removed]",
      "text/plain": [
       "<Figure size 432x288 with 1 Axes>"
      ]
     },
     "metadata": {
      "needs_background": "light"
     },
     "output_type": "display_data"
    }
   ],
   "source": [
    "# View distribution\n",
    "sns.histplot(x = 'Quantity', data=unified_data).set(title=\"Data distribution of Quantity\")\n",
    "\n",
    "# View distribution\n",
    "sns.histplot(x='Price', data= unified_data).set(title='Data distribution of Price')"
   ]
  },
  {
   "cell_type": "code",
   "execution_count": 32,
   "metadata": {},
   "outputs": [
    {
     "data": {
      "text/html": [
       "<div>\n",
       "<style scoped>\n",
       "    .dataframe tbody tr th:only-of-type {\n",
       "        vertical-align: middle;\n",
       "    }\n",
       "\n",
       "    .dataframe tbody tr th {\n",
       "        vertical-align: top;\n",
       "    }\n",
       "\n",
       "    .dataframe thead th {\n",
       "        text-align: right;\n",
       "    }\n",
       "</style>\n",
       "<table border=\"1\" class=\"dataframe\">\n",
       "  <thead>\n",
       "    <tr style=\"text-align: right;\">\n",
       "      <th></th>\n",
       "      <th>Invoice</th>\n",
       "      <th>StockCode</th>\n",
       "      <th>Description</th>\n",
       "      <th>Quantity</th>\n",
       "      <th>InvoiceDate</th>\n",
       "      <th>Price</th>\n",
       "      <th>Customer ID</th>\n",
       "      <th>Country</th>\n",
       "    </tr>\n",
       "  </thead>\n",
       "  <tbody>\n",
       "    <tr>\n",
       "      <th>0</th>\n",
       "      <td>536365</td>\n",
       "      <td>85123A</td>\n",
       "      <td>WHITE HANGING HEART T-LIGHT HOLDER</td>\n",
       "      <td>6</td>\n",
       "      <td>2010-12-01 08:26:00</td>\n",
       "      <td>2.55</td>\n",
       "      <td>17850.0</td>\n",
       "      <td>United Kingdom</td>\n",
       "    </tr>\n",
       "    <tr>\n",
       "      <th>1</th>\n",
       "      <td>536365</td>\n",
       "      <td>71053</td>\n",
       "      <td>WHITE METAL LANTERN</td>\n",
       "      <td>6</td>\n",
       "      <td>2010-12-01 08:26:00</td>\n",
       "      <td>3.39</td>\n",
       "      <td>17850.0</td>\n",
       "      <td>United Kingdom</td>\n",
       "    </tr>\n",
       "    <tr>\n",
       "      <th>2</th>\n",
       "      <td>536365</td>\n",
       "      <td>84406B</td>\n",
       "      <td>CREAM CUPID HEARTS COAT HANGER</td>\n",
       "      <td>8</td>\n",
       "      <td>2010-12-01 08:26:00</td>\n",
       "      <td>2.75</td>\n",
       "      <td>17850.0</td>\n",
       "      <td>United Kingdom</td>\n",
       "    </tr>\n",
       "    <tr>\n",
       "      <th>3</th>\n",
       "      <td>536365</td>\n",
       "      <td>84029G</td>\n",
       "      <td>KNITTED UNION FLAG HOT WATER BOTTLE</td>\n",
       "      <td>6</td>\n",
       "      <td>2010-12-01 08:26:00</td>\n",
       "      <td>3.39</td>\n",
       "      <td>17850.0</td>\n",
       "      <td>United Kingdom</td>\n",
       "    </tr>\n",
       "    <tr>\n",
       "      <th>4</th>\n",
       "      <td>536365</td>\n",
       "      <td>84029E</td>\n",
       "      <td>RED WOOLLY HOTTIE WHITE HEART.</td>\n",
       "      <td>6</td>\n",
       "      <td>2010-12-01 08:26:00</td>\n",
       "      <td>3.39</td>\n",
       "      <td>17850.0</td>\n",
       "      <td>United Kingdom</td>\n",
       "    </tr>\n",
       "  </tbody>\n",
       "</table>\n",
       "</div>"
      ],
      "text/plain": [
       "  Invoice StockCode                          Description  Quantity  \\\n",
       "0  536365    85123A   WHITE HANGING HEART T-LIGHT HOLDER         6   \n",
       "1  536365     71053                  WHITE METAL LANTERN         6   \n",
       "2  536365    84406B       CREAM CUPID HEARTS COAT HANGER         8   \n",
       "3  536365    84029G  KNITTED UNION FLAG HOT WATER BOTTLE         6   \n",
       "4  536365    84029E       RED WOOLLY HOTTIE WHITE HEART.         6   \n",
       "\n",
       "          InvoiceDate  Price  Customer ID         Country  \n",
       "0 2010-12-01 08:26:00   2.55      17850.0  United Kingdom  \n",
       "1 2010-12-01 08:26:00   3.39      17850.0  United Kingdom  \n",
       "2 2010-12-01 08:26:00   2.75      17850.0  United Kingdom  \n",
       "3 2010-12-01 08:26:00   3.39      17850.0  United Kingdom  \n",
       "4 2010-12-01 08:26:00   3.39      17850.0  United Kingdom  "
      ]
     },
     "execution_count": 32,
     "metadata": {},
     "output_type": "execute_result"
    }
   ],
   "source": [
    "unified_data.head()"
   ]
  },
  {
   "cell_type": "code",
   "execution_count": 33,
   "metadata": {},
   "outputs": [
    {
     "data": {
      "text/plain": [
       "Invoice                object\n",
       "StockCode              object\n",
       "Description            object\n",
       "Quantity                int64\n",
       "InvoiceDate    datetime64[ns]\n",
       "Price                 float64\n",
       "Customer ID           float64\n",
       "Country                object\n",
       "dtype: object"
      ]
     },
     "execution_count": 33,
     "metadata": {},
     "output_type": "execute_result"
    }
   ],
   "source": [
    "unified_data['StockCode'] = unified_data['StockCode'].astype('str')\n",
    "unified_data.dtypes"
   ]
  },
  {
   "cell_type": "code",
   "execution_count": 34,
   "metadata": {},
   "outputs": [],
   "source": [
    "\n",
    "\n",
    "# save\n",
    "unified_data.to_parquet('./online_retail_clean.parquet')"
   ]
  }
 ],
 "metadata": {
  "interpreter": {
   "hash": "b1e259f8989b5c9c45559a1752ef2f72f727f33e7b4cd49fa4d8dfdfbce9ad9e"
  },
  "kernelspec": {
   "display_name": "Python 3.9.7 ('ml')",
   "language": "python",
   "name": "python3"
  },
  "language_info": {
   "codemirror_mode": {
    "name": "ipython",
    "version": 3
   },
   "file_extension": ".py",
   "mimetype": "text/x-python",
   "name": "python",
   "nbconvert_exporter": "python",
   "pygments_lexer": "ipython3",
   "version": "3.9.7"
  },
  "orig_nbformat": 4
 },
 "nbformat": 4,
 "nbformat_minor": 2
}
